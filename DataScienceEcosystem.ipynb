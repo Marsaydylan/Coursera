{
 "cells": [
  {
   "cell_type": "markdown",
   "id": "889ca2be-9ac9-411a-94db-b6ee1f6f2747",
   "metadata": {},
   "source": [
    "# Data Science Tools and Ecosystem"
   ]
  },
  {
   "cell_type": "markdown",
   "id": "a5bf9bf1-deab-4b54-a407-cdc7e6047bd9",
   "metadata": {},
   "source": [
    "In this notebook, Data Science Tools and Ecosystem are summarized."
   ]
  },
  {
   "cell_type": "markdown",
   "id": "3db43313-b070-4f11-845c-23ed496fbab5",
   "metadata": {},
   "source": [
    "Some of the popular languages that Data Scientists use are:\n",
    "1. SQL\n",
    "2. Python\n",
    "3. R"
   ]
  },
  {
   "cell_type": "markdown",
   "id": "ce8df86b-1c46-4592-9872-d69c368bc47f",
   "metadata": {
    "tags": []
   },
   "source": [
    "Some of the commonly used libraries used by Data Scientists include:\n",
    "1. Pandas\n",
    "2. SciPy\n",
    "3. TensorFlow\n",
    "4. Matplotlib\n",
    "5. NumPy"
   ]
  },
  {
   "cell_type": "markdown",
   "id": "0271d0be-d9af-441f-9b10-9cf00939bdeb",
   "metadata": {},
   "source": [
    "|Data Science Tools|\n",
    "|---|\n",
    "|SAS|\n",
    "|JupyterLab|\n",
    "|Apache Hadoop|\n",
    "|TensoeFlow|"
   ]
  },
  {
   "cell_type": "markdown",
   "id": "c8a99171-0ca3-43b4-865d-cbaf45656806",
   "metadata": {},
   "source": [
    "### Below are a few examples of evaluating arithmetic expressions in Python\n",
    "\n"
   ]
  },
  {
   "cell_type": "code",
   "execution_count": 2,
   "id": "af878cdc-9ca3-46f4-840a-6e001c7e2623",
   "metadata": {
    "tags": []
   },
   "outputs": [
    {
     "data": {
      "text/plain": [
       "17"
      ]
     },
     "execution_count": 2,
     "metadata": {},
     "output_type": "execute_result"
    }
   ],
   "source": [
    "#This a simple arithmetic expression to mutiply then add integers\n",
    "(3*4)+5\n"
   ]
  },
  {
   "cell_type": "code",
   "execution_count": 3,
   "id": "296c2e52-10a1-46b8-ace9-d275eaeab76b",
   "metadata": {
    "tags": []
   },
   "outputs": [
    {
     "data": {
      "text/plain": [
       "3.3333333333333335"
      ]
     },
     "execution_count": 3,
     "metadata": {},
     "output_type": "execute_result"
    }
   ],
   "source": [
    "#This will convert 200 minutes to hours by diving by 60\n",
    "200/60"
   ]
  },
  {
   "cell_type": "markdown",
   "id": "40dbe9dd-8330-4250-9fce-727fdf80897c",
   "metadata": {},
   "source": [
    "__Objectives:__\n",
    "* List languages for Data Science\n",
    "* List tools for Data Science\n",
    "* List libraries for Data Science\n",
    "* Format headings in Markdowns\n"
   ]
  },
  {
   "cell_type": "markdown",
   "id": "40e9d4c8-82b9-4b04-a236-47bc37aabed0",
   "metadata": {},
   "source": [
    "## Author \n",
    "Dylan "
   ]
  },
  {
   "cell_type": "code",
   "execution_count": null,
   "id": "5abc016c-07d9-4d0f-8f35-5d7f7a4924b0",
   "metadata": {},
   "outputs": [],
   "source": []
  }
 ],
 "metadata": {
  "kernelspec": {
   "display_name": "Python",
   "language": "python",
   "name": "conda-env-python-py"
  },
  "language_info": {
   "codemirror_mode": {
    "name": "ipython",
    "version": 3
   },
   "file_extension": ".py",
   "mimetype": "text/x-python",
   "name": "python",
   "nbconvert_exporter": "python",
   "pygments_lexer": "ipython3",
   "version": "3.7.12"
  }
 },
 "nbformat": 4,
 "nbformat_minor": 5
}
